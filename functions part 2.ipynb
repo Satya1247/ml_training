{
  "nbformat": 4,
  "nbformat_minor": 0,
  "metadata": {
    "colab": {
      "provenance": []
    },
    "kernelspec": {
      "name": "python3",
      "display_name": "Python 3"
    },
    "language_info": {
      "name": "python"
    }
  },
  "cells": [
    {
      "cell_type": "code",
      "execution_count": null,
      "metadata": {
        "id": "xYEXF0sO6rEC"
      },
      "outputs": [],
      "source": [
        "#Anonymous functions\n",
        "#anonymous functions are created by lambda keyword and we can write the code in a single line so\n",
        "# we can reduce boiler plate of code\n",
        "#lamda variable:expression"
      ]
    },
    {
      "cell_type": "code",
      "source": [
        "#anonymous function with one argument\n",
        "square=lambda x:x**2\n",
        "print(square(5))"
      ],
      "metadata": {
        "colab": {
          "base_uri": "https://localhost:8080/"
        },
        "id": "hEOFBlSQ7Isg",
        "outputId": "0a3ba4b2-38f9-49ab-bd70-5974011ac577"
      },
      "execution_count": null,
      "outputs": [
        {
          "output_type": "stream",
          "name": "stdout",
          "text": [
            "25\n"
          ]
        }
      ]
    },
    {
      "cell_type": "code",
      "source": [
        "#anonymous functions with two arguments\n",
        "add=lambda x,y:x+y\n",
        "print(add(5,3))"
      ],
      "metadata": {
        "colab": {
          "base_uri": "https://localhost:8080/"
        },
        "id": "kFH3et0T7f57",
        "outputId": "100ba3b9-1956-42ab-8572-e66d83a0db73"
      },
      "execution_count": null,
      "outputs": [
        {
          "output_type": "stream",
          "name": "stdout",
          "text": [
            "8\n"
          ]
        }
      ]
    },
    {
      "cell_type": "code",
      "source": [
        "#Recursive functions\n",
        "#function that call themselves during theire execution.\n",
        "#it is useful when we are solving  problems than can be broken down into smaller and smaller\n",
        "#5!=5*4*3*2*1=120\n",
        "def factorial(n):\n",
        "  if n==0:\n",
        "    return 1\n",
        "  else:\n",
        "    return n*factorial(n-1)\n",
        "print(factorial(5))"
      ],
      "metadata": {
        "colab": {
          "base_uri": "https://localhost:8080/"
        },
        "id": "McAVHmpM70EI",
        "outputId": "9d7bb736-4aa1-44b2-d76f-b735d1fd8c00"
      },
      "execution_count": null,
      "outputs": [
        {
          "output_type": "stream",
          "name": "stdout",
          "text": [
            "120\n"
          ]
        }
      ]
    },
    {
      "cell_type": "code",
      "source": [
        "iteration 1:\n",
        "factorial(5):\n",
        "\n",
        "if n==0:(false)\n",
        "\n",
        "else:\n",
        "  return n*factorial(n-1)\n",
        "  5*factorial(4)==5*24==120\n",
        "\n",
        "factorial(4):\n",
        "if n==0:(false)\n",
        "else:\n",
        "  return 4*factorial(3)==4*6=24\n",
        "factorial(3):\n",
        "if n==0:(false)\n",
        "else:\n",
        "  return 3*factorial(2)==>3*2=6\n",
        "\n",
        "factorial(2):\n",
        "if n==0(false)\n",
        "else:\n",
        "  return 2*factorial(1):-->2*1=2\n",
        "factorial(1):\n",
        "else:\n",
        "  return 1*factorial(0)-->1*1==1\n"
      ],
      "metadata": {
        "id": "nTuaMgoK8nl8"
      },
      "execution_count": null,
      "outputs": []
    },
    {
      "cell_type": "code",
      "source": [
        "#Higher order functions\n",
        "#These functions that take other functions as arguments or return the function as results\n",
        "#inbuilt higher order functions\n",
        "#1. map()\n",
        "#2.filter()\n",
        "#3.sorted()\n"
      ],
      "metadata": {
        "id": "07aTE7Pl93bW"
      },
      "execution_count": null,
      "outputs": []
    },
    {
      "cell_type": "code",
      "source": [
        "# using lambda with map function to square each argument in a list\n",
        "num=[1,2,3,4]\n",
        "print(num)\n",
        "square_numbers=map(lambda x:x**2,num)\n",
        "print(square_numbers)\n",
        "for i in square_numbers:\n",
        "  print(i)\n",
        "\n",
        "#tracing\n",
        "#iteration1:\n",
        "#map(lambda 3:3**2,)-->num=[1,4,9]"
      ],
      "metadata": {
        "colab": {
          "base_uri": "https://localhost:8080/"
        },
        "id": "8LGafYeR-V_D",
        "outputId": "f597ace3-3f7e-4911-a012-cb7f42c0b892"
      },
      "execution_count": null,
      "outputs": [
        {
          "output_type": "stream",
          "name": "stdout",
          "text": [
            "[1, 2, 3, 4]\n",
            "<map object at 0x7cb961f7b9d0>\n",
            "1\n",
            "4\n",
            "9\n",
            "16\n"
          ]
        }
      ]
    },
    {
      "cell_type": "code",
      "source": [
        "#filter\n",
        "numbers=[1,2,3,4,5,6,7,8]\n",
        "def is_even(n):\n",
        "  return n%2==0\n",
        "even_numbers=filter(is_even,numbers)\n",
        "print(even_numbers)\n",
        "for i in even_numbers:\n",
        "  print(i)"
      ],
      "metadata": {
        "colab": {
          "base_uri": "https://localhost:8080/"
        },
        "id": "_BsCSJHN-71o",
        "outputId": "2c28f78d-00d2-4816-9aba-c6fc0c94e892"
      },
      "execution_count": null,
      "outputs": [
        {
          "output_type": "stream",
          "name": "stdout",
          "text": [
            "<filter object at 0x7cb961f4bbe0>\n",
            "2\n",
            "4\n",
            "6\n",
            "8\n"
          ]
        }
      ]
    },
    {
      "cell_type": "code",
      "source": [
        "#reduce functions\n",
        "#reduce function take the arguments one is func and another one seq\n",
        "#to use reduce function we have to import functools\n",
        "import functools"
      ],
      "metadata": {
        "id": "2_Hn-yOSA2TB"
      },
      "execution_count": null,
      "outputs": []
    },
    {
      "cell_type": "code",
      "source": [
        "list=[1,2,3,4,5]\n",
        "print(functools.reduce(lambda a,b:a+b,list))"
      ],
      "metadata": {
        "colab": {
          "base_uri": "https://localhost:8080/"
        },
        "id": "Oz1Dw9vcEUjE",
        "outputId": "4a2da286-33b9-4526-923c-688fce163db8"
      },
      "execution_count": null,
      "outputs": [
        {
          "output_type": "stream",
          "name": "stdout",
          "text": [
            "15\n"
          ]
        }
      ]
    },
    {
      "cell_type": "code",
      "source": [],
      "metadata": {
        "id": "CYnF-sx-EheY"
      },
      "execution_count": null,
      "outputs": []
    }
  ]
}