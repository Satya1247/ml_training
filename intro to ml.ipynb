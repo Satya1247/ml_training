{
  "nbformat": 4,
  "nbformat_minor": 0,
  "metadata": {
    "colab": {
      "provenance": []
    },
    "kernelspec": {
      "name": "python3",
      "display_name": "Python 3"
    },
    "language_info": {
      "name": "python"
    }
  },
  "cells": [
    {
      "cell_type": "code",
      "execution_count": null,
      "metadata": {
        "id": "zkcYzZFs2yER"
      },
      "outputs": [],
      "source": [
        "AI\n",
        "DL\n",
        "ML\n",
        "ex: house prices: room size, how many rooms, infrastructure  and 3lakhs\n",
        "Machine learning:\n",
        "\n",
        "taking the dataset with larger number of data-->kaggle\n",
        "data preprocessing -->pandas and numpy\n",
        "encoders\n",
        "data visualization-->matplotlib or seaborn\n",
        "we need to select the proper algorithm based on dataset to train the model-->\n",
        "split the dataset--> 75% dataset for training purpose and 25% dataset for testing purpose--> sklearn\n",
        "measure the accuracy based on model predictions"
      ]
    },
    {
      "cell_type": "code",
      "source": [
        "#major types in the ml\n",
        "1.supervised learning--> labeled dataset -->house prices-->giving input and outputs\n",
        "apple--> it is red or green\n",
        "two category of algorithms:\n",
        "1. classification-> true or false\n",
        "if it is predicting two values either 0 or 1 it is called binary classification(email is spam or not)\n",
        " 2. if the model is predicting more than two values then it is called multi class classification\n",
        " example: recognizing the hand written digits(0-9 values)\n",
        "\n",
        " 3.imbalanced classification some of the data points are predicting more values (ex: rare skin disease or fraud detection)\n",
        "\n",
        "2.Regression--> it will predict continous numeric values\n",
        "# house prices\n",
        "based on the room size and number of rooms and location--> 10lakhs\n",
        "based on the location the prices are varying continously\n",
        "# stock price prediction\n",
        "ex: forecating the future stock price\n",
        "2.unsupervised learning\n",
        "3.reinforcement learning"
      ],
      "metadata": {
        "id": "VfbDZedf4XKA"
      },
      "execution_count": null,
      "outputs": []
    },
    {
      "cell_type": "code",
      "source": [
        "list of algorithms in supervised learning:\n",
        "linear regression-->\n",
        "1. logistic regression\n",
        "2. decision trees\n",
        "4.random forest\n",
        "5.support vector machine\n",
        "6.knn\n",
        "7.naive bayes classifier"
      ],
      "metadata": {
        "id": "OfahKv-0714D"
      },
      "execution_count": null,
      "outputs": []
    },
    {
      "cell_type": "code",
      "source": [
        "#unsupervised learning:--> it is trained with non labeled data\n",
        "# we dont know the output\n",
        "#in the dataset we are having the inputs\n",
        "types:\n",
        "1.clustering--> grouping customers based on the purchasing behaviour\n",
        "Algorithms:\n",
        "---\n",
        "1. k-means clustering\n",
        "2. PCA\n",
        "2. Association\n",
        "algorithms:\n",
        "1. apriori algorithm\n"
      ],
      "metadata": {
        "id": "I961yLIC8PYA"
      },
      "execution_count": null,
      "outputs": []
    }
  ]
}