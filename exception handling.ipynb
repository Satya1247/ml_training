{
  "nbformat": 4,
  "nbformat_minor": 0,
  "metadata": {
    "colab": {
      "provenance": []
    },
    "kernelspec": {
      "name": "python3",
      "display_name": "Python 3"
    },
    "language_info": {
      "name": "python"
    }
  },
  "cells": [
    {
      "cell_type": "code",
      "execution_count": 1,
      "metadata": {
        "id": "5p-j2UIPMSVf"
      },
      "outputs": [],
      "source": [
        "#Exception handling--handle errors and unexpected situations that ma occur during program execution"
      ]
    },
    {
      "cell_type": "code",
      "source": [
        "#try:\n",
        "  #code that may raise an exception\n",
        " # except exceptionType:\n",
        "    #code to handle the exception"
      ],
      "metadata": {
        "id": "Jbhj3hhpNsgX"
      },
      "execution_count": 3,
      "outputs": []
    },
    {
      "cell_type": "code",
      "source": [
        "except ValueError:\n",
        "  #code to handle the valueError\n",
        "except FileNotFoundError:\n",
        "  #code to handle the FileNotFoundError"
      ],
      "metadata": {
        "id": "BAtthpGiORjO"
      },
      "execution_count": null,
      "outputs": []
    },
    {
      "cell_type": "code",
      "source": [
        "except (valueError,FileNotFoundError):\n",
        "  #code to handle multiple exception"
      ],
      "metadata": {
        "id": "Z2QIkWMbOhXs"
      },
      "execution_count": null,
      "outputs": []
    },
    {
      "cell_type": "code",
      "source": [
        "except:"
      ],
      "metadata": {
        "id": "dLfI_8y4Oro8"
      },
      "execution_count": null,
      "outputs": []
    },
    {
      "cell_type": "code",
      "source": [
        "try:\n",
        "  #code that raise error\n",
        "except:\n",
        " #to handle\n",
        "#else:\n",
        " #write the code if there is no exception"
      ],
      "metadata": {
        "id": "Gkssusk0OvVe"
      },
      "execution_count": null,
      "outputs": []
    },
    {
      "cell_type": "code",
      "source": [
        "try:\n",
        "  #in the file i am entering something\n",
        "  #in middle i encountered an error\n",
        "  #st1\n",
        "  #st2\n",
        "  #st3\n",
        "\n",
        "except:\n",
        "finally:\n",
        "  #you have to close the file\n"
      ],
      "metadata": {
        "id": "XE3y1veUO-db"
      },
      "execution_count": null,
      "outputs": []
    },
    {
      "cell_type": "code",
      "source": [
        "raise Exception(\"the page is not loaded in 10sec\")"
      ],
      "metadata": {
        "id": "rUS_BA3CPqdJ"
      },
      "execution_count": null,
      "outputs": []
    },
    {
      "cell_type": "code",
      "source": [
        "#custom exceptions:\n",
        "class customError(Exception):\n",
        "  pass\n",
        "def validate_age(age):\n",
        "  if(age<0):\n",
        "    raise customError(\"Age cannot be negative\")\n",
        "  else:\n",
        "    print(\"age is greater than 0\")\n",
        "try:\n",
        "  validate_age(-1)\n",
        "except customError as sampleException:\n",
        "  print(\"custom error:\",sampleException)\n",
        "finally:\n",
        "  print(\"satya\")"
      ],
      "metadata": {
        "colab": {
          "base_uri": "https://localhost:8080/"
        },
        "id": "GM9lmwM0QGMi",
        "outputId": "6daca256-b748-40b2-a342-edde91173955"
      },
      "execution_count": 23,
      "outputs": [
        {
          "output_type": "stream",
          "name": "stdout",
          "text": [
            "custom error: Age cannot be negative\n",
            "satya\n"
          ]
        }
      ]
    },
    {
      "cell_type": "code",
      "source": [
        "class student:\n",
        "  def __init__(self,a,b,c):\n",
        "    self.a=a\n",
        "    self.b=b\n",
        "    self.c=c\n",
        "  def add(self):\n",
        "    return self.a+self.b+self.c\n",
        "obj=student(10,20,30)\n",
        "obj1=student(40,50,60)\n",
        "print(obj.a)\n",
        "print(obj.add())"
      ],
      "metadata": {
        "colab": {
          "base_uri": "https://localhost:8080/"
        },
        "id": "DSp715hYQwwm",
        "outputId": "b23f65f7-72ef-4f46-ba18-6889e0e3bcb5"
      },
      "execution_count": 14,
      "outputs": [
        {
          "output_type": "stream",
          "name": "stdout",
          "text": [
            "10\n",
            "60\n"
          ]
        }
      ]
    },
    {
      "cell_type": "code",
      "source": [],
      "metadata": {
        "id": "_8sG5VFLR1Rc"
      },
      "execution_count": null,
      "outputs": []
    }
  ]
}