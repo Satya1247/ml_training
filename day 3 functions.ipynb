{
  "nbformat": 4,
  "nbformat_minor": 0,
  "metadata": {
    "colab": {
      "provenance": []
    },
    "kernelspec": {
      "name": "python3",
      "display_name": "Python 3"
    },
    "language_info": {
      "name": "python"
    }
  },
  "cells": [
    {
      "cell_type": "code",
      "execution_count": 9,
      "metadata": {
        "id": "denr-EKf2JxV",
        "colab": {
          "base_uri": "https://localhost:8080/"
        },
        "outputId": "59deaefa-af5b-4dd2-ee09-13bdee7003f3"
      },
      "outputs": [
        {
          "output_type": "execute_result",
          "data": {
            "text/plain": [
              "['__add__',\n",
              " '__class__',\n",
              " '__class_getitem__',\n",
              " '__contains__',\n",
              " '__delattr__',\n",
              " '__dir__',\n",
              " '__doc__',\n",
              " '__eq__',\n",
              " '__format__',\n",
              " '__ge__',\n",
              " '__getattribute__',\n",
              " '__getitem__',\n",
              " '__getnewargs__',\n",
              " '__gt__',\n",
              " '__hash__',\n",
              " '__init__',\n",
              " '__init_subclass__',\n",
              " '__iter__',\n",
              " '__le__',\n",
              " '__len__',\n",
              " '__lt__',\n",
              " '__mul__',\n",
              " '__ne__',\n",
              " '__new__',\n",
              " '__reduce__',\n",
              " '__reduce_ex__',\n",
              " '__repr__',\n",
              " '__rmul__',\n",
              " '__setattr__',\n",
              " '__sizeof__',\n",
              " '__str__',\n",
              " '__subclasshook__',\n",
              " 'count',\n",
              " 'index']"
            ]
          },
          "metadata": {},
          "execution_count": 9
        }
      ],
      "source": [
        "dir(tuple)"
      ]
    },
    {
      "cell_type": "code",
      "source": [
        "help(list.copy)"
      ],
      "metadata": {
        "id": "OG6Jgg8B2MHO",
        "colab": {
          "base_uri": "https://localhost:8080/"
        },
        "outputId": "fa47be48-7952-4045-8033-fd86ce777314"
      },
      "execution_count": 8,
      "outputs": [
        {
          "output_type": "stream",
          "name": "stdout",
          "text": [
            "Help on method_descriptor:\n",
            "\n",
            "copy(self, /)\n",
            "    Return a shallow copy of the list.\n",
            "\n"
          ]
        }
      ]
    },
    {
      "cell_type": "code",
      "source": [
        "n=10\n",
        "print(n)"
      ],
      "metadata": {
        "colab": {
          "base_uri": "https://localhost:8080/"
        },
        "id": "JV0g1Hk3m5bj",
        "outputId": "35f6fd5e-57f9-41c2-ec53-14fadd0cf601"
      },
      "execution_count": 10,
      "outputs": [
        {
          "output_type": "stream",
          "name": "stdout",
          "text": [
            "10\n"
          ]
        }
      ]
    },
    {
      "cell_type": "code",
      "source": [
        "n=int(input())\n",
        "print(n)"
      ],
      "metadata": {
        "colab": {
          "base_uri": "https://localhost:8080/"
        },
        "id": "4ZH1hEHmx9wi",
        "outputId": "ebad4b70-906f-4e7c-a7bf-3f813bc3ea90"
      },
      "execution_count": 11,
      "outputs": [
        {
          "output_type": "stream",
          "name": "stdout",
          "text": [
            "15\n",
            "15\n"
          ]
        }
      ]
    },
    {
      "cell_type": "code",
      "source": [
        "#loop is a repitition statements\n",
        "# if we want some table multiplications\n",
        "number=int(input())\n",
        "secondNumber=1\n",
        "while(secondNumber<number):\n",
        "  print(\"{}*{}={}\".format(number,secondNumber,number*secondNumber))\n",
        "  secondNumber+=1\n",
        "\n"
      ],
      "metadata": {
        "colab": {
          "base_uri": "https://localhost:8080/"
        },
        "id": "R7ER0G5qyF-M",
        "outputId": "2e950ff3-de26-46ec-ed48-d8d334c7c580"
      },
      "execution_count": 12,
      "outputs": [
        {
          "output_type": "stream",
          "name": "stdout",
          "text": [
            "10\n",
            "10*1=10\n",
            "10*2=20\n",
            "10*3=30\n",
            "10*4=40\n",
            "10*5=50\n",
            "10*6=60\n",
            "10*7=70\n",
            "10*8=80\n",
            "10*9=90\n"
          ]
        }
      ]
    },
    {
      "cell_type": "code",
      "source": [
        "#patterns\n",
        "#****\n",
        "#number+=1\n",
        "number=int(input())\n",
        "while(number<5):\n",
        "  print(\"*\",end=\"$\")\n",
        "  number=number+1\n"
      ],
      "metadata": {
        "colab": {
          "base_uri": "https://localhost:8080/"
        },
        "id": "1o15yWAtzXjS",
        "outputId": "e02ade24-fe38-4909-d466-ab4d21e70095"
      },
      "execution_count": 15,
      "outputs": [
        {
          "output_type": "stream",
          "name": "stdout",
          "text": [
            "1\n",
            "*$*$*$*$"
          ]
        }
      ]
    },
    {
      "cell_type": "code",
      "source": [
        "#* * * *\n",
        "#* * * *\n",
        "#* * * *\n",
        "#* * * *\n",
        "n=1\n",
        "while(n<5):\n",
        "  n1=1\n",
        "  while(n1<5):\n",
        "    print(\"*\",end=\" \")\n",
        "    n1+=1\n",
        "  print()\n",
        "  n+=1\n"
      ],
      "metadata": {
        "colab": {
          "base_uri": "https://localhost:8080/"
        },
        "id": "n34EaU6h0CsY",
        "outputId": "99d0ca82-cf76-43ca-9ff0-1668f5ceaae9"
      },
      "execution_count": 17,
      "outputs": [
        {
          "output_type": "stream",
          "name": "stdout",
          "text": [
            "* * * * \n",
            "* * * * \n",
            "* * * * \n",
            "* * * * \n"
          ]
        }
      ]
    },
    {
      "cell_type": "code",
      "source": [
        "outer loop iteration1:\n",
        "n=1\n",
        "while(n<5):  n=1<5(True)\n",
        "n1=1\n",
        "inner loop iteration1:\n",
        "while(n1<5):  n1=1<5(true)\n",
        "print(*)----> *\n",
        "n1=2\n",
        "inner loop iteration 2:\n",
        "while(2<5)true\n",
        "print(*)---> * *\n",
        "n1=3\n",
        "inner loop iteration 3:\n",
        "while(3<5)true\n",
        "print(*)---> * * *\n",
        "n1=4\n",
        "inner loop iteration 4:\n",
        "while(4<5)true\n",
        "print(*)---> * * * *\n",
        "n1=5\n",
        "inner loop iteration 5:\n",
        "while(5<5):false\n",
        "* * * *\n",
        "n=2\n",
        "outer loop execution iteration 2:\n",
        "n=2\n",
        "while(2<5)true\n",
        "inner loop execution 5 iterations:\n",
        "\n",
        "* * * *\n",
        "* * * *\n"
      ],
      "metadata": {
        "id": "1eDuNFq61MBh"
      },
      "execution_count": null,
      "outputs": []
    },
    {
      "cell_type": "code",
      "source": [
        "#*\n",
        "#* *\n",
        "#* * *\n",
        "#* * * *\n",
        "n=1\n",
        "while(n<5):\n",
        "  n1=1\n",
        "  while(n1<=n):\n",
        "    print(\"*\",end=\" \")\n",
        "    n1+=1\n",
        "  print()\n",
        "  n+=1"
      ],
      "metadata": {
        "colab": {
          "base_uri": "https://localhost:8080/"
        },
        "id": "eu5MwOuT21Y9",
        "outputId": "f79bf10f-7414-44c0-b1ba-da104df2a6ff"
      },
      "execution_count": 19,
      "outputs": [
        {
          "output_type": "stream",
          "name": "stdout",
          "text": [
            "* \n",
            "* * \n",
            "* * * \n",
            "* * * * \n"
          ]
        }
      ]
    },
    {
      "cell_type": "code",
      "source": [
        "#in operator is called as membership operator\n",
        "# for i in range(10):\n",
        "list=[1,2,3,4]\n",
        "5 in list"
      ],
      "metadata": {
        "colab": {
          "base_uri": "https://localhost:8080/"
        },
        "id": "6_t3JqGL3WM7",
        "outputId": "1e4d8678-2057-43df-f67c-c76c36d2f6af"
      },
      "execution_count": 21,
      "outputs": [
        {
          "output_type": "execute_result",
          "data": {
            "text/plain": [
              "False"
            ]
          },
          "metadata": {},
          "execution_count": 21
        }
      ]
    },
    {
      "cell_type": "code",
      "source": [
        "dir(str)"
      ],
      "metadata": {
        "colab": {
          "base_uri": "https://localhost:8080/"
        },
        "id": "u9Oxgdw53ueG",
        "outputId": "3c87d9e3-72bd-49bf-df13-fd4ec1a0e33b"
      },
      "execution_count": 22,
      "outputs": [
        {
          "output_type": "execute_result",
          "data": {
            "text/plain": [
              "['__add__',\n",
              " '__class__',\n",
              " '__contains__',\n",
              " '__delattr__',\n",
              " '__dir__',\n",
              " '__doc__',\n",
              " '__eq__',\n",
              " '__format__',\n",
              " '__ge__',\n",
              " '__getattribute__',\n",
              " '__getitem__',\n",
              " '__getnewargs__',\n",
              " '__gt__',\n",
              " '__hash__',\n",
              " '__init__',\n",
              " '__init_subclass__',\n",
              " '__iter__',\n",
              " '__le__',\n",
              " '__len__',\n",
              " '__lt__',\n",
              " '__mod__',\n",
              " '__mul__',\n",
              " '__ne__',\n",
              " '__new__',\n",
              " '__reduce__',\n",
              " '__reduce_ex__',\n",
              " '__repr__',\n",
              " '__rmod__',\n",
              " '__rmul__',\n",
              " '__setattr__',\n",
              " '__sizeof__',\n",
              " '__str__',\n",
              " '__subclasshook__',\n",
              " 'capitalize',\n",
              " 'casefold',\n",
              " 'center',\n",
              " 'count',\n",
              " 'encode',\n",
              " 'endswith',\n",
              " 'expandtabs',\n",
              " 'find',\n",
              " 'format',\n",
              " 'format_map',\n",
              " 'index',\n",
              " 'isalnum',\n",
              " 'isalpha',\n",
              " 'isascii',\n",
              " 'isdecimal',\n",
              " 'isdigit',\n",
              " 'isidentifier',\n",
              " 'islower',\n",
              " 'isnumeric',\n",
              " 'isprintable',\n",
              " 'isspace',\n",
              " 'istitle',\n",
              " 'isupper',\n",
              " 'join',\n",
              " 'ljust',\n",
              " 'lower',\n",
              " 'lstrip',\n",
              " 'maketrans',\n",
              " 'partition',\n",
              " 'removeprefix',\n",
              " 'removesuffix',\n",
              " 'replace',\n",
              " 'rfind',\n",
              " 'rindex',\n",
              " 'rjust',\n",
              " 'rpartition',\n",
              " 'rsplit',\n",
              " 'rstrip',\n",
              " 'split',\n",
              " 'splitlines',\n",
              " 'startswith',\n",
              " 'strip',\n",
              " 'swapcase',\n",
              " 'title',\n",
              " 'translate',\n",
              " 'upper',\n",
              " 'zfill']"
            ]
          },
          "metadata": {},
          "execution_count": 22
        }
      ]
    },
    {
      "cell_type": "code",
      "source": [
        "help(str.startswith)"
      ],
      "metadata": {
        "colab": {
          "base_uri": "https://localhost:8080/"
        },
        "id": "VlptMLR73_hk",
        "outputId": "828310d5-9324-446e-bc26-4d433b418c8b"
      },
      "execution_count": 23,
      "outputs": [
        {
          "output_type": "stream",
          "name": "stdout",
          "text": [
            "Help on method_descriptor:\n",
            "\n",
            "startswith(...)\n",
            "    S.startswith(prefix[, start[, end]]) -> bool\n",
            "    \n",
            "    Return True if S starts with the specified prefix, False otherwise.\n",
            "    With optional start, test S beginning at that position.\n",
            "    With optional end, stop comparing S at that position.\n",
            "    prefix can also be a tuple of strings to try.\n",
            "\n"
          ]
        }
      ]
    },
    {
      "cell_type": "code",
      "source": [
        "s=\"sai\"\n",
        "print(len(s))\n",
        "print(s[0])"
      ],
      "metadata": {
        "colab": {
          "base_uri": "https://localhost:8080/"
        },
        "id": "Z91YWTj54FHy",
        "outputId": "7125d15c-2e6c-4e9c-bc92-796e47480251"
      },
      "execution_count": 25,
      "outputs": [
        {
          "output_type": "stream",
          "name": "stdout",
          "text": [
            "3\n",
            "s\n"
          ]
        }
      ]
    },
    {
      "cell_type": "code",
      "source": [
        "#Functions\n",
        "# 5 types in the functions\n",
        "#1.built in functions\n",
        "#user- defined functions\n",
        "#Anonymous functions--->defined using lambda keyword\n",
        "#recursive functions--factorial\n",
        "#higher order functions--> map() , filter(), reduce()"
      ],
      "metadata": {
        "id": "hKx7xJro4VBS"
      },
      "execution_count": 26,
      "outputs": []
    },
    {
      "cell_type": "code",
      "source": [
        "# user defined functions\n",
        "def greet(name):\n",
        "  print(\"Hello,\"+name+\"!\")\n",
        "greet(\"satya\")"
      ],
      "metadata": {
        "colab": {
          "base_uri": "https://localhost:8080/"
        },
        "id": "kxiGdWzw5Udq",
        "outputId": "09891528-bac7-4003-c0f9-85bcbb531bd4"
      },
      "execution_count": 27,
      "outputs": [
        {
          "output_type": "stream",
          "name": "stdout",
          "text": [
            "Hello,satya!\n"
          ]
        }
      ]
    },
    {
      "cell_type": "code",
      "source": [
        "greet(\"Sai\")"
      ],
      "metadata": {
        "colab": {
          "base_uri": "https://localhost:8080/"
        },
        "id": "jsMI00NT5o7T",
        "outputId": "27a803d5-25f1-4bf2-b36e-82c078b4ea6b"
      },
      "execution_count": 28,
      "outputs": [
        {
          "output_type": "stream",
          "name": "stdout",
          "text": [
            "Hello,Sai!\n"
          ]
        }
      ]
    },
    {
      "cell_type": "code",
      "source": [
        "# no argument fucntion\n",
        "def greet():\n",
        "  print(\"satya\")\n",
        "  print(\"sai\")\n",
        "greet()"
      ],
      "metadata": {
        "colab": {
          "base_uri": "https://localhost:8080/"
        },
        "id": "GKAAGJPv5xqo",
        "outputId": "4793461c-9592-411c-ff35-437340472ab3"
      },
      "execution_count": 30,
      "outputs": [
        {
          "output_type": "stream",
          "name": "stdout",
          "text": [
            "satya\n",
            "sai\n"
          ]
        }
      ]
    },
    {
      "cell_type": "code",
      "source": [
        "#adding the two numbers\n",
        "#argumnet with return type function\n",
        "def add(a,b):\n",
        "  return a+b\n",
        "add(5,3)"
      ],
      "metadata": {
        "colab": {
          "base_uri": "https://localhost:8080/"
        },
        "id": "9uy9g0bd6Cip",
        "outputId": "18b94c8e-5670-4c7d-dc1f-a7ebc68c9f3f"
      },
      "execution_count": 31,
      "outputs": [
        {
          "output_type": "execute_result",
          "data": {
            "text/plain": [
              "8"
            ]
          },
          "metadata": {},
          "execution_count": 31
        }
      ]
    },
    {
      "cell_type": "code",
      "source": [
        "def add():\n",
        "  return 8\n",
        "add()"
      ],
      "metadata": {
        "colab": {
          "base_uri": "https://localhost:8080/"
        },
        "id": "uDJQdbJz6Te8",
        "outputId": "d40661b7-c7bd-4875-c17f-ccce3afd3a17"
      },
      "execution_count": 32,
      "outputs": [
        {
          "output_type": "execute_result",
          "data": {
            "text/plain": [
              "8"
            ]
          },
          "metadata": {},
          "execution_count": 32
        }
      ]
    },
    {
      "cell_type": "code",
      "source": [
        "def arithmetic(a,b):\n",
        "  return a+b,a-b,a*b,a/b\n",
        "arithmetic(2,3)"
      ],
      "metadata": {
        "colab": {
          "base_uri": "https://localhost:8080/"
        },
        "id": "5HMgQMq76bgS",
        "outputId": "6cd914e3-4d7f-402b-897d-a3c90fcaebb2"
      },
      "execution_count": 35,
      "outputs": [
        {
          "output_type": "execute_result",
          "data": {
            "text/plain": [
              "(5, -1, 6, 0.6666666666666666)"
            ]
          },
          "metadata": {},
          "execution_count": 35
        }
      ]
    },
    {
      "cell_type": "code",
      "source": [
        "#arbitrary arguments\n",
        "#*n\n",
        "def add(a,b,*c):\n",
        "  print(a)\n",
        "  print(b)\n",
        "  print(c)\n",
        "add(2,4,5,5,6,7,8)"
      ],
      "metadata": {
        "colab": {
          "base_uri": "https://localhost:8080/"
        },
        "id": "H7eJWxe46pwG",
        "outputId": "7b90c30c-20c3-41e0-c77c-8ff44d8b9b50"
      },
      "execution_count": 36,
      "outputs": [
        {
          "output_type": "stream",
          "name": "stdout",
          "text": [
            "2\n",
            "4\n",
            "(5, 5, 6, 7, 8)\n"
          ]
        }
      ]
    },
    {
      "cell_type": "code",
      "source": [
        "def add(a,*b):\n",
        "  sum=0\n",
        "  for i in b:\n",
        "    sum+=i\n",
        "  return sum\n",
        "add(2,3,4,5,6)"
      ],
      "metadata": {
        "colab": {
          "base_uri": "https://localhost:8080/"
        },
        "id": "Om4G9P_J7RuA",
        "outputId": "1770d079-9a1a-45b4-d5e4-70dfc0a87d05"
      },
      "execution_count": 37,
      "outputs": [
        {
          "output_type": "execute_result",
          "data": {
            "text/plain": [
              "18"
            ]
          },
          "metadata": {},
          "execution_count": 37
        }
      ]
    },
    {
      "cell_type": "code",
      "source": [
        "##**b\n",
        "def add(**a):\n",
        "  sum=0\n",
        "  for i in a.values():\n",
        "    sum+=i\n",
        "  return sum\n",
        "add(a=2,b=3,c=4,d=6)"
      ],
      "metadata": {
        "colab": {
          "base_uri": "https://localhost:8080/"
        },
        "id": "kNHYi-c27qmw",
        "outputId": "ef305623-14ed-40ba-9bf1-9c622096f94e"
      },
      "execution_count": 38,
      "outputs": [
        {
          "output_type": "execute_result",
          "data": {
            "text/plain": [
              "15"
            ]
          },
          "metadata": {},
          "execution_count": 38
        }
      ]
    },
    {
      "cell_type": "code",
      "source": [
        "iteration 1:\n",
        "a=5\n",
        "a.values()--2\n",
        "b.values()-->3\n",
        "c.values()-->4"
      ],
      "metadata": {
        "id": "EFxDAyXu8WAc"
      },
      "execution_count": null,
      "outputs": []
    }
  ]
}